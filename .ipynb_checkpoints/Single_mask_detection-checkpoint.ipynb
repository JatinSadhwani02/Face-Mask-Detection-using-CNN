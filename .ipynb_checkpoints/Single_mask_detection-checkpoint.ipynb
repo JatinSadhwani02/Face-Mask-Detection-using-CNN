{
 "cells": [
  {
   "cell_type": "code",
   "execution_count": 4,
   "metadata": {},
   "outputs": [],
   "source": [
    "import cv2\n",
    "from keras.models import load_model\n",
    "from keras.preprocessing.image import load_img , img_to_array\n",
    "import numpy as np\n",
    "import os"
   ]
  },
  {
   "cell_type": "code",
   "execution_count": 9,
   "metadata": {},
   "outputs": [],
   "source": [
    "model=load_model('face_mask_detection_model.h5')\n",
    "img_width , img_height = 200 , 200\n",
    "\n",
    "path = 'face-mask-study.jpg'"
   ]
  },
  {
   "cell_type": "code",
   "execution_count": 10,
   "metadata": {},
   "outputs": [
    {
     "name": "stdout",
     "output_type": "stream",
     "text": [
      "User without mask =  1.0\n",
      "User with mask =  1.0\n",
      "User without mask =  1.0\n",
      "User with mask =  1.0\n"
     ]
    }
   ],
   "source": [
    "face_cascade = cv2.CascadeClassifier('haarcascade_frontalface_default.xml')\n",
    "\n",
    "cap = cv2.VideoCapture(0)\n",
    "img_count_full = 0\n",
    "font = cv2.FONT_HERSHEY_SIMPLEX\n",
    "org = (1,1)\n",
    "class_label = ' '\n",
    "\n",
    "fontScale = 1\n",
    "color = (255,0,0)\n",
    "thickness=2\n",
    "\n",
    "color_img = cv2.imread(path)\n",
    "# color_img = cv2.imread('mask detection dataset/PicsArt_01-21-01.08.13.jpg')\n",
    "    \n",
    "scale = 50\n",
    "width = int(color_img.shape[1] * scale/100)\n",
    "height = int(color_img.shape[0] * scale/100)\n",
    "dim = (width,height)\n",
    "    \n",
    "color_img = cv2.resize(color_img ,dim , interpolation = cv2.INTER_AREA )\n",
    "gray_img = cv2.cvtColor(color_img , cv2.COLOR_BGR2GRAY)\n",
    "\n",
    "faces = face_cascade.detectMultiScale(gray_img , 1.1, 6)\n",
    "    \n",
    "img_cnt = 0\n",
    "for (x,y,w,h) in faces:\n",
    "    org = (x-10, y-10)\n",
    "    img_cnt +=1\n",
    "    clr_face = color_img[y:y+h , x:x+w]\n",
    "    cv2.imwrite('input_faces/faces/%d%dface.jpg'%(img_count_full , img_cnt) , clr_face)\n",
    "    img = load_img('input_faces/faces/%d%dface.jpg'%(img_count_full , img_cnt) , target_size = (img_width , img_height))\n",
    "        \n",
    "        \n",
    "    img = img_to_array(img)\n",
    "    img = np.expand_dims(img,axis=0)\n",
    "    pred_p = model.predict(img)\n",
    "    pred = np.argmax(pred_p)\n",
    "        \n",
    "    if pred == 0:\n",
    "        print('User with mask = ',pred_p[0][0])\n",
    "        class_label = 'Mask'\n",
    "        color = (255,0,0)\n",
    "        cv2.imwrite('input_faces/with_mask/%d%dface.jpg'%(img_count_full , img_cnt) , clr_face)\n",
    "        cv2.rectangle(color_img , (x,y) , (x+w,y+h) , (0,0,255) , 3)\n",
    "        cv2.putText(color_img , class_label , org , font , fontScale , color , thickness , cv2.LINE_AA)  \n",
    "        cv2.imwrite('input_faces/with_mask/%dmask.jpg'%(img_cnt),color_img)\n",
    "            \n",
    "    else:\n",
    "        print('User without mask = ',pred_p[0][1])\n",
    "        class_label = 'No Mask'\n",
    "        color = (0,255,0)\n",
    "        cv2.imwrite('input_faces/without_mask/%d%dface.jpg'%(img_count_full , img_cnt) , clr_face)\n",
    "            \n",
    "        cv2.rectangle(color_img , (x,y) , (x+w,y+h) , (0,0,255) , 3)\n",
    "        cv2.putText(color_img , class_label , org , font , fontScale , color , thickness , cv2.LINE_AA)\n",
    "        cv2.imwrite('input_faces/without_mask/%dnomask.jpg'%(img_cnt),color_img)\n",
    "        \n",
    "cv2.imshow(\"LIVE FACE MASK DETECTION\",color_img)\n",
    "        \n",
    "cv2.waitKey()\n",
    "cv2.destroyAllWindows()"
   ]
  },
  {
   "cell_type": "code",
   "execution_count": null,
   "metadata": {},
   "outputs": [],
   "source": []
  }
 ],
 "metadata": {
  "kernelspec": {
   "display_name": "Python 3 (ipykernel)",
   "language": "python",
   "name": "python3"
  },
  "language_info": {
   "codemirror_mode": {
    "name": "ipython",
    "version": 3
   },
   "file_extension": ".py",
   "mimetype": "text/x-python",
   "name": "python",
   "nbconvert_exporter": "python",
   "pygments_lexer": "ipython3",
   "version": "3.7.1"
  }
 },
 "nbformat": 4,
 "nbformat_minor": 2
}
